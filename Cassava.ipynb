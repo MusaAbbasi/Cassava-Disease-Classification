{
 "cells": [
  {
   "cell_type": "markdown",
   "metadata": {
    "id": "DZcl4mHkYS4M"
   },
   "source": [
    "## Imports"
   ]
  },
  {
   "cell_type": "code",
   "execution_count": 1,
   "metadata": {
    "id": "RTVO5Ap8Y5ve"
   },
   "outputs": [],
   "source": [
    "import pandas as pd\n",
    "\n",
    "import os\n",
    "\n",
    "import numpy as np\n",
    "\n",
    "import tensorflow as tf\n",
    "\n",
    "from PIL import Image\n",
    "\n",
    "import shutil\n",
    "\n",
    "from keras.preprocessing.image import ImageDataGenerator\n",
    "from tensorflow.keras.utils import array_to_img, img_to_array, load_img\n",
    "\n",
    "pip install split-folders\n",
    "\n",
    "import splitfolders\n",
    "\n",
    "import matplotlib.pyplot as plt\n",
    "\n",
    "from zipfile import ZipFile\n",
    "\n",
    "import random"
   ]
  },
  {
   "cell_type": "markdown",
   "metadata": {
    "id": "Z5eojTmIZkRk"
   },
   "source": [
    "## Load and Format Data"
   ]
  },
  {
   "cell_type": "code",
   "execution_count": 38,
   "metadata": {},
   "outputs": [
    {
     "data": {
      "text/plain": [
       "'C:\\\\Users\\\\musaa\\\\Documents\\\\Cassava\\\\Cassava-Disease-Classification'"
      ]
     },
     "execution_count": 38,
     "metadata": {},
     "output_type": "execute_result"
    }
   ],
   "source": [
    "os.getcwd()"
   ]
  },
  {
   "cell_type": "code",
   "execution_count": 31,
   "metadata": {},
   "outputs": [],
   "source": [
    "with ZipFile('Data/cassava-leaf-disease-classification.zip', 'r') as zObject:\n",
    "    zObject.extractall(path=\"Data\")"
   ]
  },
  {
   "cell_type": "code",
   "execution_count": 33,
   "metadata": {
    "id": "TnLh97SOZpZJ"
   },
   "outputs": [],
   "source": [
    "labels_df = pd.read_csv(\"Data/train.csv\")"
   ]
  },
  {
   "cell_type": "code",
   "execution_count": 34,
   "metadata": {
    "id": "f0vs2FUHZtOO"
   },
   "outputs": [],
   "source": [
    "label_dict = {\"0\": \"Cassava Bacterial Blight (CBB)\",\n",
    "              \"1\": \"Cassava Brown Streak Disease (CBSD)\",\n",
    "              \"2\": \"Cassava Green Mottle (CGM)\",\n",
    "              \"3\": \"Cassava Mosaic Disease (CMD)\",\n",
    "              \"4\": \"Healthy\"}"
   ]
  },
  {
   "cell_type": "code",
   "execution_count": 37,
   "metadata": {
    "colab": {
     "base_uri": "https://localhost:8080/"
    },
    "executionInfo": {
     "elapsed": 207,
     "status": "ok",
     "timestamp": 1669658788797,
     "user": {
      "displayName": "Musa Abbasi",
      "userId": "16237062881427524118"
     },
     "user_tz": 300
    },
    "id": "5Cvl2I6qaC_Q",
    "outputId": "e7e6803c-e252-49c6-b638-547ff6f697f3"
   },
   "outputs": [
    {
     "data": {
      "text/plain": [
       "21397"
      ]
     },
     "execution_count": 37,
     "metadata": {},
     "output_type": "execute_result"
    }
   ],
   "source": [
    "len(os.listdir(\"Data/train_images\"))\n",
    "#checking directory size"
   ]
  },
  {
   "cell_type": "code",
   "execution_count": null,
   "metadata": {},
   "outputs": [],
   "source": []
  },
  {
   "cell_type": "code",
   "execution_count": 39,
   "metadata": {
    "id": "ErGRDGSPuCG4"
   },
   "outputs": [],
   "source": [
    "#Place to move my data\n",
    "os.mkdir(\"Data/CBB\")\n",
    "os.mkdir(\"Data/CBSD\")\n",
    "os.mkdir(\"Data/CGM\")\n",
    "os.mkdir(\"Data/CMD\")\n",
    "os.mkdir(\"Data/Healthy\")\n",
    "\n",
    "os.mkdir(\"Data/TTVS\") # Train Test Validation Split"
   ]
  },
  {
   "cell_type": "code",
   "execution_count": 40,
   "metadata": {
    "id": "J5IjXqS9weA3"
   },
   "outputs": [
    {
     "data": {
      "text/html": [
       "<div>\n",
       "<style scoped>\n",
       "    .dataframe tbody tr th:only-of-type {\n",
       "        vertical-align: middle;\n",
       "    }\n",
       "\n",
       "    .dataframe tbody tr th {\n",
       "        vertical-align: top;\n",
       "    }\n",
       "\n",
       "    .dataframe thead th {\n",
       "        text-align: right;\n",
       "    }\n",
       "</style>\n",
       "<table border=\"1\" class=\"dataframe\">\n",
       "  <thead>\n",
       "    <tr style=\"text-align: right;\">\n",
       "      <th></th>\n",
       "      <th>image_id</th>\n",
       "      <th>label</th>\n",
       "    </tr>\n",
       "  </thead>\n",
       "  <tbody>\n",
       "    <tr>\n",
       "      <th>0</th>\n",
       "      <td>1000015157.jpg</td>\n",
       "      <td>0</td>\n",
       "    </tr>\n",
       "    <tr>\n",
       "      <th>1</th>\n",
       "      <td>1000201771.jpg</td>\n",
       "      <td>3</td>\n",
       "    </tr>\n",
       "    <tr>\n",
       "      <th>2</th>\n",
       "      <td>100042118.jpg</td>\n",
       "      <td>1</td>\n",
       "    </tr>\n",
       "    <tr>\n",
       "      <th>3</th>\n",
       "      <td>1000723321.jpg</td>\n",
       "      <td>1</td>\n",
       "    </tr>\n",
       "    <tr>\n",
       "      <th>4</th>\n",
       "      <td>1000812911.jpg</td>\n",
       "      <td>3</td>\n",
       "    </tr>\n",
       "    <tr>\n",
       "      <th>...</th>\n",
       "      <td>...</td>\n",
       "      <td>...</td>\n",
       "    </tr>\n",
       "    <tr>\n",
       "      <th>21392</th>\n",
       "      <td>999068805.jpg</td>\n",
       "      <td>3</td>\n",
       "    </tr>\n",
       "    <tr>\n",
       "      <th>21393</th>\n",
       "      <td>999329392.jpg</td>\n",
       "      <td>3</td>\n",
       "    </tr>\n",
       "    <tr>\n",
       "      <th>21394</th>\n",
       "      <td>999474432.jpg</td>\n",
       "      <td>1</td>\n",
       "    </tr>\n",
       "    <tr>\n",
       "      <th>21395</th>\n",
       "      <td>999616605.jpg</td>\n",
       "      <td>4</td>\n",
       "    </tr>\n",
       "    <tr>\n",
       "      <th>21396</th>\n",
       "      <td>999998473.jpg</td>\n",
       "      <td>4</td>\n",
       "    </tr>\n",
       "  </tbody>\n",
       "</table>\n",
       "<p>21397 rows × 2 columns</p>\n",
       "</div>"
      ],
      "text/plain": [
       "             image_id  label\n",
       "0      1000015157.jpg      0\n",
       "1      1000201771.jpg      3\n",
       "2       100042118.jpg      1\n",
       "3      1000723321.jpg      1\n",
       "4      1000812911.jpg      3\n",
       "...               ...    ...\n",
       "21392   999068805.jpg      3\n",
       "21393   999329392.jpg      3\n",
       "21394   999474432.jpg      1\n",
       "21395   999616605.jpg      4\n",
       "21396   999998473.jpg      4\n",
       "\n",
       "[21397 rows x 2 columns]"
      ]
     },
     "execution_count": 40,
     "metadata": {},
     "output_type": "execute_result"
    }
   ],
   "source": [
    "labels_df"
   ]
  },
  {
   "cell_type": "code",
   "execution_count": 41,
   "metadata": {
    "colab": {
     "base_uri": "https://localhost:8080/"
    },
    "executionInfo": {
     "elapsed": 216,
     "status": "ok",
     "timestamp": 1669658957820,
     "user": {
      "displayName": "Musa Abbasi",
      "userId": "16237062881427524118"
     },
     "user_tz": 300
    },
    "id": "cHF8LLP3sTUx",
    "outputId": "0404512c-efc7-4679-f6db-72949fa63b1d"
   },
   "outputs": [
    {
     "data": {
      "text/plain": [
       "3    13158\n",
       "4     2577\n",
       "2     2386\n",
       "1     2189\n",
       "0     1087\n",
       "Name: label, dtype: int64"
      ]
     },
     "execution_count": 41,
     "metadata": {},
     "output_type": "execute_result"
    }
   ],
   "source": [
    "labels_df[\"label\"].value_counts()\n",
    "#Count of each class of images"
   ]
  },
  {
   "cell_type": "code",
   "execution_count": 42,
   "metadata": {
    "id": "0Af9M4Iux-e2"
   },
   "outputs": [],
   "source": [
    "# making lists of all filenames by class\n",
    "list0 = []\n",
    "list1 = []\n",
    "list2 = []\n",
    "list3 = []\n",
    "list4 = []\n",
    "for x in labels_df.index:\n",
    "    if labels_df.iloc[x,1] == 0:\n",
    "        list0.append(labels_df.iloc[x,0])\n",
    "    elif labels_df.iloc[x,1] == 1:\n",
    "        list1.append(labels_df.iloc[x,0])\n",
    "    elif labels_df.iloc[x,1] == 2:\n",
    "        list2.append(labels_df.iloc[x,0])\n",
    "    elif labels_df.iloc[x,1] == 3:\n",
    "        list3.append(labels_df.iloc[x,0])\n",
    "    elif labels_df.iloc[x,1] == 4:\n",
    "        list4.append(labels_df.iloc[x,0])"
   ]
  },
  {
   "cell_type": "code",
   "execution_count": 43,
   "metadata": {
    "colab": {
     "base_uri": "https://localhost:8080/"
    },
    "executionInfo": {
     "elapsed": 339,
     "status": "ok",
     "timestamp": 1669659288489,
     "user": {
      "displayName": "Musa Abbasi",
      "userId": "16237062881427524118"
     },
     "user_tz": 300
    },
    "id": "FdBfTZYqzwpL",
    "outputId": "ff32f383-c06c-4413-ad06-6187be72f912"
   },
   "outputs": [
    {
     "data": {
      "text/plain": [
       "{'0': 'Cassava Bacterial Blight (CBB)',\n",
       " '1': 'Cassava Brown Streak Disease (CBSD)',\n",
       " '2': 'Cassava Green Mottle (CGM)',\n",
       " '3': 'Cassava Mosaic Disease (CMD)',\n",
       " '4': 'Healthy'}"
      ]
     },
     "execution_count": 43,
     "metadata": {},
     "output_type": "execute_result"
    }
   ],
   "source": [
    "label_dict #confirming label names for next step"
   ]
  },
  {
   "cell_type": "code",
   "execution_count": 44,
   "metadata": {
    "id": "NLLNHn_4yrKi"
   },
   "outputs": [],
   "source": [
    "#moving images to respective directories\n",
    "for x in list0:\n",
    "    shutil.move(\"Data/train_images/\"+x, \"Data/CBB\")\n",
    "for x in list1:\n",
    "    shutil.move(\"Data/train_images/\"+x, \"Data/CBSD\")\n",
    "for x in list2:\n",
    "    shutil.move(\"Data/train_images/\"+x, \"Data/CGM\")\n",
    "for x in list3:\n",
    "    shutil.move(\"Data/train_images/\"+x, \"Data/CMD\")\n",
    "for x in list4:\n",
    "    shutil.move(\"Data/train_images/\"+x, \"Data/Healthy\")"
   ]
  },
  {
   "cell_type": "code",
   "execution_count": 46,
   "metadata": {
    "colab": {
     "base_uri": "https://localhost:8080/"
    },
    "executionInfo": {
     "elapsed": 818,
     "status": "ok",
     "timestamp": 1669659335196,
     "user": {
      "displayName": "Musa Abbasi",
      "userId": "16237062881427524118"
     },
     "user_tz": 300
    },
    "id": "RmHmjRX2yzhu",
    "outputId": "ead8bbfe-7780-4aaf-8e5e-887d4a691180"
   },
   "outputs": [
    {
     "name": "stdout",
     "output_type": "stream",
     "text": [
      "CBB 1087\n",
      "CBSD 2189\n",
      "CGM 2386\n",
      "CMD 13158\n",
      "Healthy 2577\n"
     ]
    }
   ],
   "source": [
    "#Sanity Check\n",
    "print(\"CBB\", len(os.listdir(\"Data/CBB\")))\n",
    "print(\"CBSD\", len(os.listdir(\"Data/CBSD\")))\n",
    "print(\"CGM\", len(os.listdir(\"Data/CGM\")))\n",
    "print(\"CMD\", len(os.listdir(\"Data/CMD\")))\n",
    "print(\"Healthy\", len(os.listdir(\"Data/Healthy\")))"
   ]
  },
  {
   "cell_type": "code",
   "execution_count": 47,
   "metadata": {
    "colab": {
     "base_uri": "https://localhost:8080/"
    },
    "executionInfo": {
     "elapsed": 59229,
     "status": "ok",
     "timestamp": 1669659421708,
     "user": {
      "displayName": "Musa Abbasi",
      "userId": "16237062881427524118"
     },
     "user_tz": 300
    },
    "id": "XbNPEPrA36o5",
    "outputId": "59930184-f74e-400e-dc79-f0ed91eb463c"
   },
   "outputs": [],
   "source": [
    "splitfolders.ratio(\"Data/Sorted\", output = \"Data/TTVS\", seed = 1,\n",
    "                   ratio = (.6, .2, .2))"
   ]
  },
  {
   "cell_type": "code",
   "execution_count": 48,
   "metadata": {
    "colab": {
     "base_uri": "https://localhost:8080/"
    },
    "executionInfo": {
     "elapsed": 368,
     "status": "ok",
     "timestamp": 1669659845970,
     "user": {
      "displayName": "Musa Abbasi",
      "userId": "16237062881427524118"
     },
     "user_tz": 300
    },
    "id": "Jk937m-D8W8u",
    "outputId": "965f3ff4-2c59-419e-cddc-8d90637a3f15"
   },
   "outputs": [
    {
     "name": "stdout",
     "output_type": "stream",
     "text": [
      "test CBB 218\n",
      "test CBSD 439\n",
      "test CGM 478\n",
      "test CMD 2633\n",
      "test Healthy 516\n",
      "train CBB 652\n",
      "train CBSD 1313\n",
      "train CGM 1431\n",
      "train CMD 7894\n",
      "train Healthy 1546\n",
      "val CBB 217\n",
      "val CBSD 437\n",
      "val CGM 477\n",
      "val CMD 2631\n",
      "val Healthy 515\n"
     ]
    }
   ],
   "source": [
    "#Sanity Check\n",
    "for x in os.listdir(\"Data/TTVS\"):\n",
    "    for i in os.listdir(\"Data/TTVS/\"+x):\n",
    "        print(x, i, len(os.listdir(\"Data/TTVS/\"+x+\"/\"+i)))"
   ]
  },
  {
   "cell_type": "markdown",
   "metadata": {},
   "source": [
    "## Data Augmentation"
   ]
  },
  {
   "cell_type": "code",
   "execution_count": 49,
   "metadata": {
    "id": "qc0pDCcS0OTh"
   },
   "outputs": [],
   "source": [
    "#Generate additional images to rectify imbalnce of data\n",
    "datagen = ImageDataGenerator(\n",
    "        width_shift_range=0.5,\n",
    "        height_shift_range=0.5,\n",
    "        rotation_range= 20,\n",
    "        vertical_flip=True,\n",
    "        horizontal_flip=True,\n",
    "        brightness_range= (.7,1.3),\n",
    "        fill_mode=\"wrap\"\n",
    "        )"
   ]
  },
  {
   "cell_type": "code",
   "execution_count": 51,
   "metadata": {},
   "outputs": [],
   "source": [
    "source = 'Data/TTVS/train/CMD'\n",
    "os.mkdir(\"Data/ExtraImages\")\n",
    "dest = 'Data/ExtraImages'\n",
    "files = os.listdir(source)\n",
    "no_of_files = 2894\n",
    "\n",
    "for file_name in random.sample(files, no_of_files):\n",
    "    shutil.move(os.path.join(source, file_name), dest)"
   ]
  },
  {
   "cell_type": "code",
   "execution_count": 52,
   "metadata": {},
   "outputs": [
    {
     "data": {
      "text/plain": [
       "5000"
      ]
     },
     "execution_count": 52,
     "metadata": {},
     "output_type": "execute_result"
    }
   ],
   "source": [
    "len(os.listdir(source))"
   ]
  },
  {
   "cell_type": "code",
   "execution_count": 53,
   "metadata": {},
   "outputs": [],
   "source": [
    "def create_aug(directory, n):\n",
    "    for i in os.listdir(directory):\n",
    "        if \"aug\" not in i:\n",
    "            imagepath = directory+\"/\"+i\n",
    "            img = np.array(Image.open(imagepath))\n",
    "            img = img.reshape((1,) + img.shape)  # this is a rank 4 array\n",
    "            length = len(os.listdir(directory))\n",
    "            if length >= n:\n",
    "                    break\n",
    "            for batch in datagen.flow(img, batch_size=1, \n",
    "                                  save_to_dir=directory,\n",
    "                                  save_prefix = \"aug\", \n",
    "                                  save_format= \"jpg\"):\n",
    "                length = len(os.listdir(directory))\n",
    "                if length >= n:\n",
    "                    break"
   ]
  },
  {
   "cell_type": "code",
   "execution_count": 54,
   "metadata": {},
   "outputs": [],
   "source": [
    "create_aug(\"Data/TTVS/train/CBB\", 5000)\n",
    "create_aug(\"Data/TTVS/train/CBSD\", 5000)\n",
    "create_aug(\"Data/TTVS/train/CGM\", 5000)\n",
    "create_aug(\"Data/TTVS/train/Healthy\", 5000)"
   ]
  },
  {
   "cell_type": "code",
   "execution_count": null,
   "metadata": {
    "id": "6mIPfRGJj-cf"
   },
   "outputs": [],
   "source": [
    "#Sanity Check\n",
    "for x in os.listdir(\"Data/TTVS\"):\n",
    "    for i in os.listdir(\"Data/TTVS/\"+x):\n",
    "        print(x, i, len(os.listdir(\"Data/TTVS/\"+x+\"/\"+i)))"
   ]
  }
 ],
 "metadata": {
  "colab": {
   "authorship_tag": "ABX9TyNxDkaim0lOQLTUpLPsrFLM",
   "machine_shape": "hm",
   "mount_file_id": "1p80BpEs5EH5osjoMinb4fyAJ8LROCWn_",
   "provenance": []
  },
  "gpuClass": "standard",
  "kernelspec": {
   "display_name": "Python 3 (ipykernel)",
   "language": "python",
   "name": "python3"
  },
  "language_info": {
   "codemirror_mode": {
    "name": "ipython",
    "version": 3
   },
   "file_extension": ".py",
   "mimetype": "text/x-python",
   "name": "python",
   "nbconvert_exporter": "python",
   "pygments_lexer": "ipython3",
   "version": "3.9.13"
  }
 },
 "nbformat": 4,
 "nbformat_minor": 4
}
