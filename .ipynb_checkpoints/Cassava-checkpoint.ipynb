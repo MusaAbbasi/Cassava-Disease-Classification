{
 "cells": [
  {
   "cell_type": "markdown",
   "metadata": {
    "id": "DZcl4mHkYS4M"
   },
   "source": [
    "## Imports"
   ]
  },
  {
   "cell_type": "code",
   "execution_count": 1,
   "metadata": {
    "id": "RTVO5Ap8Y5ve"
   },
   "outputs": [],
   "source": [
    "import pandas as pd"
   ]
  },
  {
   "cell_type": "code",
   "execution_count": 2,
   "metadata": {
    "id": "8RUac_cwZixN"
   },
   "outputs": [],
   "source": [
    "import os"
   ]
  },
  {
   "cell_type": "code",
   "execution_count": 3,
   "metadata": {
    "id": "jK-B07lIeffD"
   },
   "outputs": [],
   "source": [
    "import numpy as np"
   ]
  },
  {
   "cell_type": "code",
   "execution_count": 4,
   "metadata": {
    "id": "wbG0AYDO_z-e"
   },
   "outputs": [],
   "source": [
    "import tensorflow as tf"
   ]
  },
  {
   "cell_type": "code",
   "execution_count": 5,
   "metadata": {
    "colab": {
     "base_uri": "https://localhost:8080/"
    },
    "executionInfo": {
     "elapsed": 14,
     "status": "ok",
     "timestamp": 1669658018181,
     "user": {
      "displayName": "Musa Abbasi",
      "userId": "16237062881427524118"
     },
     "user_tz": 300
    },
    "id": "BOgayTEz_2Yl",
    "outputId": "590f39a0-de19-4534-ea3b-a2d3d4391240"
   },
   "outputs": [
    {
     "name": "stdout",
     "output_type": "stream",
     "text": [
      "2.9.1\n"
     ]
    }
   ],
   "source": [
    "print(tf.__version__)"
   ]
  },
  {
   "cell_type": "code",
   "execution_count": 6,
   "metadata": {
    "id": "Vr0ReZD_cLOi"
   },
   "outputs": [],
   "source": [
    "from PIL import Image"
   ]
  },
  {
   "cell_type": "code",
   "execution_count": 7,
   "metadata": {
    "id": "utpoznChzYH2"
   },
   "outputs": [],
   "source": [
    "import shutil"
   ]
  },
  {
   "cell_type": "code",
   "execution_count": 8,
   "metadata": {
    "id": "XxPzzQ6T9S5e"
   },
   "outputs": [],
   "source": [
    "from keras.preprocessing.image import ImageDataGenerator\n",
    "from tensorflow.keras.utils import array_to_img, img_to_array, load_img"
   ]
  },
  {
   "cell_type": "code",
   "execution_count": 9,
   "metadata": {
    "colab": {
     "base_uri": "https://localhost:8080/"
    },
    "executionInfo": {
     "elapsed": 4664,
     "status": "ok",
     "timestamp": 1669658022836,
     "user": {
      "displayName": "Musa Abbasi",
      "userId": "16237062881427524118"
     },
     "user_tz": 300
    },
    "id": "9AuOtU6d3ysK",
    "outputId": "bc92dba5-71c0-4d78-8bd2-e2790eee1a80"
   },
   "outputs": [
    {
     "name": "stdout",
     "output_type": "stream",
     "text": [
      "Requirement already satisfied: split-folders in c:\\users\\musaa\\anaconda3\\envs\\mercury\\lib\\site-packages (0.5.1)\n",
      "Note: you may need to restart the kernel to use updated packages.\n"
     ]
    }
   ],
   "source": [
    "pip install split-folders"
   ]
  },
  {
   "cell_type": "code",
   "execution_count": 10,
   "metadata": {
    "id": "eWbmW-Ih3vKk"
   },
   "outputs": [],
   "source": [
    "import splitfolders"
   ]
  },
  {
   "cell_type": "code",
   "execution_count": 11,
   "metadata": {
    "id": "cIOzx3M_Iz0G"
   },
   "outputs": [],
   "source": [
    "import matplotlib.pyplot as plt\n"
   ]
  },
  {
   "cell_type": "code",
   "execution_count": 12,
   "metadata": {},
   "outputs": [],
   "source": [
    "from zipfile import ZipFile"
   ]
  },
  {
   "cell_type": "code",
   "execution_count": 50,
   "metadata": {},
   "outputs": [],
   "source": [
    "import random"
   ]
  },
  {
   "cell_type": "markdown",
   "metadata": {
    "id": "Z5eojTmIZkRk"
   },
   "source": [
    "## Load and Format Data"
   ]
  },
  {
   "cell_type": "code",
   "execution_count": 38,
   "metadata": {},
   "outputs": [
    {
     "data": {
      "text/plain": [
       "'C:\\\\Users\\\\musaa\\\\Documents\\\\Cassava\\\\Cassava-Disease-Classification'"
      ]
     },
     "execution_count": 38,
     "metadata": {},
     "output_type": "execute_result"
    }
   ],
   "source": [
    "os.getcwd()"
   ]
  },
  {
   "cell_type": "code",
   "execution_count": 31,
   "metadata": {},
   "outputs": [],
   "source": [
    "with ZipFile('Data/cassava-leaf-disease-classification.zip', 'r') as zObject:\n",
    "    zObject.extractall(path=\"Data\")"
   ]
  },
  {
   "cell_type": "code",
   "execution_count": 33,
   "metadata": {
    "id": "TnLh97SOZpZJ"
   },
   "outputs": [],
   "source": [
    "labels_df = pd.read_csv(\"Data/train.csv\")"
   ]
  },
  {
   "cell_type": "code",
   "execution_count": 34,
   "metadata": {
    "id": "f0vs2FUHZtOO"
   },
   "outputs": [],
   "source": [
    "label_dict = {\"0\": \"Cassava Bacterial Blight (CBB)\",\n",
    "              \"1\": \"Cassava Brown Streak Disease (CBSD)\",\n",
    "              \"2\": \"Cassava Green Mottle (CGM)\",\n",
    "              \"3\": \"Cassava Mosaic Disease (CMD)\",\n",
    "              \"4\": \"Healthy\"}"
   ]
  },
  {
   "cell_type": "code",
   "execution_count": 37,
   "metadata": {
    "colab": {
     "base_uri": "https://localhost:8080/"
    },
    "executionInfo": {
     "elapsed": 207,
     "status": "ok",
     "timestamp": 1669658788797,
     "user": {
      "displayName": "Musa Abbasi",
      "userId": "16237062881427524118"
     },
     "user_tz": 300
    },
    "id": "5Cvl2I6qaC_Q",
    "outputId": "e7e6803c-e252-49c6-b638-547ff6f697f3"
   },
   "outputs": [
    {
     "data": {
      "text/plain": [
       "21397"
      ]
     },
     "execution_count": 37,
     "metadata": {},
     "output_type": "execute_result"
    }
   ],
   "source": [
    "len(os.listdir(\"Data/train_images\"))\n",
    "#checking directory size"
   ]
  },
  {
   "cell_type": "code",
   "execution_count": null,
   "metadata": {},
   "outputs": [],
   "source": []
  },
  {
   "cell_type": "code",
   "execution_count": 39,
   "metadata": {
    "id": "ErGRDGSPuCG4"
   },
   "outputs": [],
   "source": [
    "#Place to move my data\n",
    "os.mkdir(\"Data/CBB\")\n",
    "os.mkdir(\"Data/CBSD\")\n",
    "os.mkdir(\"Data/CGM\")\n",
    "os.mkdir(\"Data/CMD\")\n",
    "os.mkdir(\"Data/Healthy\")\n",
    "\n",
    "os.mkdir(\"Data/TTVS\") # Train Test Validation Split"
   ]
  },
  {
   "cell_type": "code",
   "execution_count": 40,
   "metadata": {
    "id": "J5IjXqS9weA3"
   },
   "outputs": [
    {
     "data": {
      "text/html": [
       "<div>\n",
       "<style scoped>\n",
       "    .dataframe tbody tr th:only-of-type {\n",
       "        vertical-align: middle;\n",
       "    }\n",
       "\n",
       "    .dataframe tbody tr th {\n",
       "        vertical-align: top;\n",
       "    }\n",
       "\n",
       "    .dataframe thead th {\n",
       "        text-align: right;\n",
       "    }\n",
       "</style>\n",
       "<table border=\"1\" class=\"dataframe\">\n",
       "  <thead>\n",
       "    <tr style=\"text-align: right;\">\n",
       "      <th></th>\n",
       "      <th>image_id</th>\n",
       "      <th>label</th>\n",
       "    </tr>\n",
       "  </thead>\n",
       "  <tbody>\n",
       "    <tr>\n",
       "      <th>0</th>\n",
       "      <td>1000015157.jpg</td>\n",
       "      <td>0</td>\n",
       "    </tr>\n",
       "    <tr>\n",
       "      <th>1</th>\n",
       "      <td>1000201771.jpg</td>\n",
       "      <td>3</td>\n",
       "    </tr>\n",
       "    <tr>\n",
       "      <th>2</th>\n",
       "      <td>100042118.jpg</td>\n",
       "      <td>1</td>\n",
       "    </tr>\n",
       "    <tr>\n",
       "      <th>3</th>\n",
       "      <td>1000723321.jpg</td>\n",
       "      <td>1</td>\n",
       "    </tr>\n",
       "    <tr>\n",
       "      <th>4</th>\n",
       "      <td>1000812911.jpg</td>\n",
       "      <td>3</td>\n",
       "    </tr>\n",
       "    <tr>\n",
       "      <th>...</th>\n",
       "      <td>...</td>\n",
       "      <td>...</td>\n",
       "    </tr>\n",
       "    <tr>\n",
       "      <th>21392</th>\n",
       "      <td>999068805.jpg</td>\n",
       "      <td>3</td>\n",
       "    </tr>\n",
       "    <tr>\n",
       "      <th>21393</th>\n",
       "      <td>999329392.jpg</td>\n",
       "      <td>3</td>\n",
       "    </tr>\n",
       "    <tr>\n",
       "      <th>21394</th>\n",
       "      <td>999474432.jpg</td>\n",
       "      <td>1</td>\n",
       "    </tr>\n",
       "    <tr>\n",
       "      <th>21395</th>\n",
       "      <td>999616605.jpg</td>\n",
       "      <td>4</td>\n",
       "    </tr>\n",
       "    <tr>\n",
       "      <th>21396</th>\n",
       "      <td>999998473.jpg</td>\n",
       "      <td>4</td>\n",
       "    </tr>\n",
       "  </tbody>\n",
       "</table>\n",
       "<p>21397 rows × 2 columns</p>\n",
       "</div>"
      ],
      "text/plain": [
       "             image_id  label\n",
       "0      1000015157.jpg      0\n",
       "1      1000201771.jpg      3\n",
       "2       100042118.jpg      1\n",
       "3      1000723321.jpg      1\n",
       "4      1000812911.jpg      3\n",
       "...               ...    ...\n",
       "21392   999068805.jpg      3\n",
       "21393   999329392.jpg      3\n",
       "21394   999474432.jpg      1\n",
       "21395   999616605.jpg      4\n",
       "21396   999998473.jpg      4\n",
       "\n",
       "[21397 rows x 2 columns]"
      ]
     },
     "execution_count": 40,
     "metadata": {},
     "output_type": "execute_result"
    }
   ],
   "source": [
    "labels_df"
   ]
  },
  {
   "cell_type": "code",
   "execution_count": 41,
   "metadata": {
    "colab": {
     "base_uri": "https://localhost:8080/"
    },
    "executionInfo": {
     "elapsed": 216,
     "status": "ok",
     "timestamp": 1669658957820,
     "user": {
      "displayName": "Musa Abbasi",
      "userId": "16237062881427524118"
     },
     "user_tz": 300
    },
    "id": "cHF8LLP3sTUx",
    "outputId": "0404512c-efc7-4679-f6db-72949fa63b1d"
   },
   "outputs": [
    {
     "data": {
      "text/plain": [
       "3    13158\n",
       "4     2577\n",
       "2     2386\n",
       "1     2189\n",
       "0     1087\n",
       "Name: label, dtype: int64"
      ]
     },
     "execution_count": 41,
     "metadata": {},
     "output_type": "execute_result"
    }
   ],
   "source": [
    "labels_df[\"label\"].value_counts()\n",
    "#Count of each class of images"
   ]
  },
  {
   "cell_type": "code",
   "execution_count": 42,
   "metadata": {
    "id": "0Af9M4Iux-e2"
   },
   "outputs": [],
   "source": [
    "# making lists of all filenames by class\n",
    "list0 = []\n",
    "list1 = []\n",
    "list2 = []\n",
    "list3 = []\n",
    "list4 = []\n",
    "for x in labels_df.index:\n",
    "    if labels_df.iloc[x,1] == 0:\n",
    "        list0.append(labels_df.iloc[x,0])\n",
    "    elif labels_df.iloc[x,1] == 1:\n",
    "        list1.append(labels_df.iloc[x,0])\n",
    "    elif labels_df.iloc[x,1] == 2:\n",
    "        list2.append(labels_df.iloc[x,0])\n",
    "    elif labels_df.iloc[x,1] == 3:\n",
    "        list3.append(labels_df.iloc[x,0])\n",
    "    elif labels_df.iloc[x,1] == 4:\n",
    "        list4.append(labels_df.iloc[x,0])"
   ]
  },
  {
   "cell_type": "code",
   "execution_count": 43,
   "metadata": {
    "colab": {
     "base_uri": "https://localhost:8080/"
    },
    "executionInfo": {
     "elapsed": 339,
     "status": "ok",
     "timestamp": 1669659288489,
     "user": {
      "displayName": "Musa Abbasi",
      "userId": "16237062881427524118"
     },
     "user_tz": 300
    },
    "id": "FdBfTZYqzwpL",
    "outputId": "ff32f383-c06c-4413-ad06-6187be72f912"
   },
   "outputs": [
    {
     "data": {
      "text/plain": [
       "{'0': 'Cassava Bacterial Blight (CBB)',\n",
       " '1': 'Cassava Brown Streak Disease (CBSD)',\n",
       " '2': 'Cassava Green Mottle (CGM)',\n",
       " '3': 'Cassava Mosaic Disease (CMD)',\n",
       " '4': 'Healthy'}"
      ]
     },
     "execution_count": 43,
     "metadata": {},
     "output_type": "execute_result"
    }
   ],
   "source": [
    "label_dict #confirming label names for next step"
   ]
  },
  {
   "cell_type": "code",
   "execution_count": 44,
   "metadata": {
    "id": "NLLNHn_4yrKi"
   },
   "outputs": [],
   "source": [
    "#moving images to respective directories\n",
    "for x in list0:\n",
    "    shutil.move(\"Data/train_images/\"+x, \"Data/CBB\")\n",
    "for x in list1:\n",
    "    shutil.move(\"Data/train_images/\"+x, \"Data/CBSD\")\n",
    "for x in list2:\n",
    "    shutil.move(\"Data/train_images/\"+x, \"Data/CGM\")\n",
    "for x in list3:\n",
    "    shutil.move(\"Data/train_images/\"+x, \"Data/CMD\")\n",
    "for x in list4:\n",
    "    shutil.move(\"Data/train_images/\"+x, \"Data/Healthy\")"
   ]
  },
  {
   "cell_type": "code",
   "execution_count": 46,
   "metadata": {
    "colab": {
     "base_uri": "https://localhost:8080/"
    },
    "executionInfo": {
     "elapsed": 818,
     "status": "ok",
     "timestamp": 1669659335196,
     "user": {
      "displayName": "Musa Abbasi",
      "userId": "16237062881427524118"
     },
     "user_tz": 300
    },
    "id": "RmHmjRX2yzhu",
    "outputId": "ead8bbfe-7780-4aaf-8e5e-887d4a691180"
   },
   "outputs": [
    {
     "name": "stdout",
     "output_type": "stream",
     "text": [
      "CBB 1087\n",
      "CBSD 2189\n",
      "CGM 2386\n",
      "CMD 13158\n",
      "Healthy 2577\n"
     ]
    }
   ],
   "source": [
    "#Sanity Check\n",
    "print(\"CBB\", len(os.listdir(\"Data/CBB\")))\n",
    "print(\"CBSD\", len(os.listdir(\"Data/CBSD\")))\n",
    "print(\"CGM\", len(os.listdir(\"Data/CGM\")))\n",
    "print(\"CMD\", len(os.listdir(\"Data/CMD\")))\n",
    "print(\"Healthy\", len(os.listdir(\"Data/Healthy\")))"
   ]
  },
  {
   "cell_type": "code",
   "execution_count": 47,
   "metadata": {
    "colab": {
     "base_uri": "https://localhost:8080/"
    },
    "executionInfo": {
     "elapsed": 59229,
     "status": "ok",
     "timestamp": 1669659421708,
     "user": {
      "displayName": "Musa Abbasi",
      "userId": "16237062881427524118"
     },
     "user_tz": 300
    },
    "id": "XbNPEPrA36o5",
    "outputId": "59930184-f74e-400e-dc79-f0ed91eb463c"
   },
   "outputs": [],
   "source": [
    "splitfolders.ratio(\"Data/Sorted\", output = \"Data/TTVS\", seed = 1,\n",
    "                   ratio = (.6, .2, .2))"
   ]
  },
  {
   "cell_type": "code",
   "execution_count": 48,
   "metadata": {
    "colab": {
     "base_uri": "https://localhost:8080/"
    },
    "executionInfo": {
     "elapsed": 368,
     "status": "ok",
     "timestamp": 1669659845970,
     "user": {
      "displayName": "Musa Abbasi",
      "userId": "16237062881427524118"
     },
     "user_tz": 300
    },
    "id": "Jk937m-D8W8u",
    "outputId": "965f3ff4-2c59-419e-cddc-8d90637a3f15"
   },
   "outputs": [
    {
     "name": "stdout",
     "output_type": "stream",
     "text": [
      "test CBB 218\n",
      "test CBSD 439\n",
      "test CGM 478\n",
      "test CMD 2633\n",
      "test Healthy 516\n",
      "train CBB 652\n",
      "train CBSD 1313\n",
      "train CGM 1431\n",
      "train CMD 7894\n",
      "train Healthy 1546\n",
      "val CBB 217\n",
      "val CBSD 437\n",
      "val CGM 477\n",
      "val CMD 2631\n",
      "val Healthy 515\n"
     ]
    }
   ],
   "source": [
    "#Sanity Check\n",
    "for x in os.listdir(\"Data/TTVS\"):\n",
    "    for i in os.listdir(\"Data/TTVS/\"+x):\n",
    "        print(x, i, len(os.listdir(\"Data/TTVS/\"+x+\"/\"+i)))"
   ]
  },
  {
   "cell_type": "markdown",
   "metadata": {},
   "source": [
    "## Data Augmentation"
   ]
  },
  {
   "cell_type": "code",
   "execution_count": 49,
   "metadata": {
    "id": "qc0pDCcS0OTh"
   },
   "outputs": [],
   "source": [
    "#Generate additional images to rectify imbalnce of data\n",
    "datagen = ImageDataGenerator(\n",
    "        width_shift_range=0.5,\n",
    "        height_shift_range=0.5,\n",
    "        rotation_range= 20,\n",
    "        vertical_flip=True,\n",
    "        horizontal_flip=True,\n",
    "        brightness_range= (.7,1.3),\n",
    "        fill_mode=\"wrap\"\n",
    "        )"
   ]
  },
  {
   "cell_type": "code",
   "execution_count": 51,
   "metadata": {},
   "outputs": [],
   "source": [
    "source = 'Data/TTVS/train/CMD'\n",
    "os.mkdir(\"Data/ExtraImages\")\n",
    "dest = 'Data/ExtraImages'\n",
    "files = os.listdir(source)\n",
    "no_of_files = 2894\n",
    "\n",
    "for file_name in random.sample(files, no_of_files):\n",
    "    shutil.move(os.path.join(source, file_name), dest)"
   ]
  },
  {
   "cell_type": "code",
   "execution_count": 52,
   "metadata": {},
   "outputs": [
    {
     "data": {
      "text/plain": [
       "5000"
      ]
     },
     "execution_count": 52,
     "metadata": {},
     "output_type": "execute_result"
    }
   ],
   "source": [
    "len(os.listdir(source))"
   ]
  },
  {
   "cell_type": "code",
   "execution_count": 53,
   "metadata": {},
   "outputs": [],
   "source": [
    "def create_aug(directory, n):\n",
    "    for i in os.listdir(directory):\n",
    "        if \"aug\" not in i:\n",
    "            imagepath = directory+\"/\"+i\n",
    "            img = np.array(Image.open(imagepath))\n",
    "            img = img.reshape((1,) + img.shape)  # this is a rank 4 array\n",
    "            length = len(os.listdir(directory))\n",
    "            if length >= n:\n",
    "                    break\n",
    "            for batch in datagen.flow(img, batch_size=1, \n",
    "                                  save_to_dir=directory,\n",
    "                                  save_prefix = \"aug\", \n",
    "                                  save_format= \"jpg\"):\n",
    "                length = len(os.listdir(directory))\n",
    "                if length >= n:\n",
    "                    break"
   ]
  },
  {
   "cell_type": "code",
   "execution_count": null,
   "metadata": {},
   "outputs": [],
   "source": [
    "create_aug(\"Data/TTVS/train/CBB\", 5000)\n",
    "create_aug(\"Data/TTVS/train/CBSD\", 5000)\n",
    "create_aug(\"Data/TTVS/train/CGM\", 5000)\n",
    "create_aug(\"Data/TTVS/train/Healthy\", 5000)"
   ]
  },
  {
   "cell_type": "code",
   "execution_count": null,
   "metadata": {
    "executionInfo": {
     "elapsed": 1703631,
     "status": "ok",
     "timestamp": 1669663042962,
     "user": {
      "displayName": "Musa Abbasi",
      "userId": "16237062881427524118"
     },
     "user_tz": 300
    },
    "id": "pUq1g_Vdhwgp"
   },
   "outputs": [],
   "source": [
    "for i in os.listdir(\"Capstone/TTVS/train/CBB\"):\n",
    "    if \"aug\" not in i:\n",
    "        imagepath = \"Capstone/TTVS/train/CBB/\"+i\n",
    "        img = np.array(Image.open(imagepath))\n",
    "        img = img.reshape((1,) + img.shape)  # this is a rank 4 array\n",
    "        length = len(os.listdir(\"Capstone/TTVS/train/CBB\"))\n",
    "        if length >= 5000:\n",
    "                break\n",
    "        for batch in datagen.flow(img, batch_size=1, \n",
    "                                  save_to_dir=\"Capstone/TTVS/train/CBB\",\n",
    "                                  save_prefix = \"aug\", \n",
    "                                  save_format= \"jpg\"):\n",
    "            length = len(os.listdir(\"Capstone/TTVS/train/CBB\"))\n",
    "            if length >= 5000:\n",
    "                break"
   ]
  },
  {
   "cell_type": "code",
   "execution_count": null,
   "metadata": {
    "colab": {
     "base_uri": "https://localhost:8080/",
     "height": 45
    },
    "executionInfo": {
     "elapsed": 22790,
     "status": "ok",
     "timestamp": 1669663366969,
     "user": {
      "displayName": "Musa Abbasi",
      "userId": "16237062881427524118"
     },
     "user_tz": 300
    },
    "id": "pA8AHSt9rpBw",
    "outputId": "5cb9f15b-68e6-41db-cc47-e8e761263cd0"
   },
   "outputs": [],
   "source": [
    "shutil.make_archive(\"CBB.zip\", \"zip\", \"Capstone/TTVS/train/CBB\")"
   ]
  },
  {
   "cell_type": "code",
   "execution_count": null,
   "metadata": {
    "colab": {
     "base_uri": "https://localhost:8080/",
     "height": 34
    },
    "executionInfo": {
     "elapsed": 455,
     "status": "ok",
     "timestamp": 1669663449252,
     "user": {
      "displayName": "Musa Abbasi",
      "userId": "16237062881427524118"
     },
     "user_tz": 300
    },
    "id": "uiCIAT3HsjGC",
    "outputId": "ee3c0077-729c-475f-b712-206d4856cc9d"
   },
   "outputs": [],
   "source": [
    "from google.colab import files\n",
    "files.download(\"/content/CBB.zip.zip\")"
   ]
  },
  {
   "cell_type": "code",
   "execution_count": null,
   "metadata": {
    "executionInfo": {
     "elapsed": 1402975,
     "status": "ok",
     "timestamp": 1669665103971,
     "user": {
      "displayName": "Musa Abbasi",
      "userId": "16237062881427524118"
     },
     "user_tz": 300
    },
    "id": "HTVu5zN7kDTc"
   },
   "outputs": [],
   "source": [
    "for i in os.listdir(\"Capstone/TTVS/train/CBSD\"):\n",
    "    if \"aug\" not in i:\n",
    "        imagepath = \"Capstone/TTVS/train/CBSD/\"+i\n",
    "        img = np.array(Image.open(imagepath))\n",
    "        img = img.reshape((1,) + img.shape)  # this is a rank 4 array\n",
    "        length = len(os.listdir(\"Capstone/TTVS/train/CBSD\"))\n",
    "        if length >= 8000:\n",
    "                break\n",
    "        for batch in datagen.flow(img, batch_size=1, \n",
    "                                  save_to_dir=\"Capstone/TTVS/train/CBSD\",\n",
    "                                  save_prefix = \"aug\", \n",
    "                                  save_format= \"jpg\"):\n",
    "            length = len(os.listdir(\"Capstone/TTVS/train/CBSD\"))\n",
    "            if length >= 8000:\n",
    "                break"
   ]
  },
  {
   "cell_type": "code",
   "execution_count": null,
   "metadata": {
    "executionInfo": {
     "elapsed": 10825,
     "status": "ok",
     "timestamp": 1669665114788,
     "user": {
      "displayName": "Musa Abbasi",
      "userId": "16237062881427524118"
     },
     "user_tz": 300
    },
    "id": "-chIv5lxkECJ"
   },
   "outputs": [],
   "source": [
    "for i in os.listdir(\"Capstone/TTVS/train/CMD\"):\n",
    "    if \"aug\" not in i:\n",
    "        imagepath = \"Capstone/TTVS/train/CMD/\"+i\n",
    "        img = np.array(Image.open(imagepath))\n",
    "        img = img.reshape((1,) + img.shape)  # this is a rank 4 array\n",
    "        length = len(os.listdir(\"Capstone/TTVS/train/CMD\"))\n",
    "        if length >= 8000:\n",
    "                break\n",
    "        for batch in datagen.flow(img, batch_size=1, \n",
    "                                  save_to_dir=\"Capstone/TTVS/train/CMD\",\n",
    "                                  save_prefix = \"aug\", \n",
    "                                  save_format= \"jpg\"):\n",
    "            length = len(os.listdir(\"Capstone/TTVS/train/CMD\"))\n",
    "            if length >= 8000:\n",
    "                break"
   ]
  },
  {
   "cell_type": "code",
   "execution_count": null,
   "metadata": {
    "colab": {
     "base_uri": "https://localhost:8080/",
     "height": 398
    },
    "executionInfo": {
     "elapsed": 12028,
     "status": "error",
     "timestamp": 1669665126808,
     "user": {
      "displayName": "Musa Abbasi",
      "userId": "16237062881427524118"
     },
     "user_tz": 300
    },
    "id": "Q9jQ006ukESy",
    "outputId": "6758b41a-255f-4d3f-8eeb-d3b4416a738d"
   },
   "outputs": [],
   "source": [
    "for i in os.listdir(\"Capstone/TTVS/train/Healthy\"):\n",
    "    if \"aug\" not in i:\n",
    "        imagepath = \"Capstone/TTVS/train/Healthy/\"+i\n",
    "        img = np.array(Image.open(imagepath))\n",
    "        img = img.reshape((1,) + img.shape)  # this is a rank 4 array\n",
    "        length = len(os.listdir(\"Capstone/TTVS/train/Healthy\"))\n",
    "        if length >= 8000:\n",
    "                break\n",
    "        for batch in datagen.flow(img, batch_size=1, \n",
    "                                  save_to_dir=\"Capstone/TTVS/train/Healthy\",\n",
    "                                  save_prefix = \"aug\", \n",
    "                                  save_format= \"jpg\"):\n",
    "            length = len(os.listdir(\"Capstone/TTVS/train/Healthy\"))\n",
    "            if length >= 8000:\n",
    "                break"
   ]
  },
  {
   "cell_type": "code",
   "execution_count": null,
   "metadata": {
    "executionInfo": {
     "elapsed": 29,
     "status": "aborted",
     "timestamp": 1669665126811,
     "user": {
      "displayName": "Musa Abbasi",
      "userId": "16237062881427524118"
     },
     "user_tz": 300
    },
    "id": "AsoQKIt5kEex"
   },
   "outputs": [],
   "source": [
    "for i in os.listdir(\"Capstone/TTVS/train/CGM\"):\n",
    "    if \"aug\" not in i:\n",
    "        imagepath = \"Capstone/TTVS/train/CGM/\"+i\n",
    "        img = np.array(Image.open(imagepath))\n",
    "        img = img.reshape((1,) + img.shape)  # this is a rank 4 array\n",
    "        length = len(os.listdir(\"Capstone/TTVS/train/CGM\"))\n",
    "        if length >= 8000:\n",
    "                break\n",
    "        for batch in datagen.flow(img, batch_size=1, \n",
    "                                  save_to_dir=\"Capstone/TTVS/train/CGM\",\n",
    "                                  save_prefix = \"aug\", \n",
    "                                  save_format= \"jpg\"):\n",
    "            length = len(os.listdir(\"Capstone/TTVS/train/CGM\"))\n",
    "            if length >= 8000:\n",
    "                break"
   ]
  },
  {
   "cell_type": "code",
   "execution_count": null,
   "metadata": {
    "id": "6mIPfRGJj-cf"
   },
   "outputs": [],
   "source": [
    "#Sanity Check\n",
    "for x in os.listdir(\"Capstone/TTVS\"):\n",
    "    for i in os.listdir(\"Capstone/TTVS/\"+x):\n",
    "        print(x, i, len(os.listdir(\"Capstone/TTVS/\"+x+\"/\"+i)))"
   ]
  },
  {
   "cell_type": "code",
   "execution_count": null,
   "metadata": {
    "colab": {
     "base_uri": "https://localhost:8080/"
    },
    "executionInfo": {
     "elapsed": 9,
     "status": "ok",
     "timestamp": 1669663096614,
     "user": {
      "displayName": "Musa Abbasi",
      "userId": "16237062881427524118"
     },
     "user_tz": 300
    },
    "id": "E_ZIU8cbffSV",
    "outputId": "a6301b67-0c86-4200-9dac-2b1393b9c2e1"
   },
   "outputs": [],
   "source": [
    "x = 0\n",
    "for i in os.listdir(\"Capstone/TTVS/train/CBB\"):\n",
    "    if \"aug\" in i:\n",
    "        x+=1\n",
    "print(x)\n"
   ]
  },
  {
   "cell_type": "code",
   "execution_count": null,
   "metadata": {
    "id": "C-kTwrSPLfZv"
   },
   "outputs": [],
   "source": [
    "path = \"drive/MyDrive/Capstone/TTVS/train\"\n",
    "for folder in os.listdir(path):\n",
    "    folderpath = path+\"/\"+folder\n",
    "    while len(os.listdir(folderpath)) <= 8000:\n",
    "        for i in os.listdir(folderpath):\n",
    "            if \"aug\" not in i:\n",
    "                dirlen = len(os.listdir(folderpath))\n",
    "                imagepath = folderpath+\"/\"+i\n",
    "                img = np.array(Image.open(imagepath))\n",
    "                img = img.reshape((1,) + img.shape)  # this is a Numpy array with rank 4\n",
    "                y = 0\n",
    "                for batch in datagen.flow(img, batch_size=1, \n",
    "                                          save_to_dir=folderpath,\n",
    "                                          save_prefix = \"aug\", \n",
    "                                          save_format= \"jpg\"):\n",
    "                    y += 1\n",
    "                    if y >2:\n",
    "                        break\n",
    "        \n",
    "            \n",
    "\n"
   ]
  },
  {
   "cell_type": "code",
   "execution_count": null,
   "metadata": {
    "colab": {
     "base_uri": "https://localhost:8080/"
    },
    "executionInfo": {
     "elapsed": 4,
     "status": "ok",
     "timestamp": 1669152739722,
     "user": {
      "displayName": "Musa Abbasi",
      "userId": "16237062881427524118"
     },
     "user_tz": 300
    },
    "id": "GAIPmpCLQWX3",
    "outputId": "1baf1948-213b-46b8-9b3d-5dc0ac334aa5"
   },
   "outputs": [],
   "source": [
    "\"aug\" not in \"123432535.png\""
   ]
  },
  {
   "cell_type": "code",
   "execution_count": null,
   "metadata": {
    "id": "lGNes-EiHQ0B"
   },
   "outputs": [],
   "source": [
    "for batch in datagen.flow(img, batch_size=1, save_to_dir=folderpath, save_prefix='aug', save_format='jpeg'):\n",
    "      i += 1\n",
    "      if i > 2:\n",
    "        break"
   ]
  },
  {
   "cell_type": "code",
   "execution_count": null,
   "metadata": {
    "id": "JcIEPHLkILgA"
   },
   "outputs": [],
   "source": [
    "x = np.array(Image.open(\"test_images/2216849948.jpg\"))\n",
    "img = x.reshape((1,) + x.shape)  # this is a Numpy array with rank 4"
   ]
  },
  {
   "cell_type": "code",
   "execution_count": null,
   "metadata": {
    "colab": {
     "base_uri": "https://localhost:8080/",
     "height": 174
    },
    "executionInfo": {
     "elapsed": 3294,
     "status": "ok",
     "timestamp": 1669659803285,
     "user": {
      "displayName": "Musa Abbasi",
      "userId": "16237062881427524118"
     },
     "user_tz": 300
    },
    "id": "o9WsUvQZIC8S",
    "outputId": "67a6b8c5-e3f6-4599-d539-532d88ba490c"
   },
   "outputs": [],
   "source": [
    "# ImageDataGenerator rotation\n",
    "#datagen = ImageDataGenerator(rotation_range=30, fill_mode='nearest')\n",
    "\n",
    "# iterator\n",
    "aug_iter = datagen.flow(img, batch_size=3)\n",
    "\n",
    "# generate samples and plot\n",
    "fig, ax = plt.subplots(nrows=1, ncols=3, figsize=(20,20))\n",
    "\n",
    "# generate batch of images\n",
    "for i in range(3):\n",
    "\n",
    "\t# convert to unsigned integers\n",
    "\timage = next(aug_iter)[0].astype('uint8')\n",
    " \n",
    "\t# plot image\n",
    "\tax[i].imshow(image)\n",
    "\tax[i].axis('off')"
   ]
  },
  {
   "cell_type": "code",
   "execution_count": null,
   "metadata": {
    "colab": {
     "base_uri": "https://localhost:8080/"
    },
    "executionInfo": {
     "elapsed": 5,
     "status": "ok",
     "timestamp": 1669151931469,
     "user": {
      "displayName": "Musa Abbasi",
      "userId": "16237062881427524118"
     },
     "user_tz": 300
    },
    "id": "8DQkX9LsJIYP",
    "outputId": "b8217cc0-de60-4e56-f3db-7d6651c2cc06"
   },
   "outputs": [],
   "source": [
    "type(aug_iter)"
   ]
  },
  {
   "cell_type": "code",
   "execution_count": null,
   "metadata": {
    "colab": {
     "base_uri": "https://localhost:8080/"
    },
    "executionInfo": {
     "elapsed": 136,
     "status": "ok",
     "timestamp": 1669151937822,
     "user": {
      "displayName": "Musa Abbasi",
      "userId": "16237062881427524118"
     },
     "user_tz": 300
    },
    "id": "c4u4KzCrNTqw",
    "outputId": "1392e839-62a7-4d9a-d02a-e98fc1e8560b"
   },
   "outputs": [],
   "source": [
    "aug_iter"
   ]
  },
  {
   "cell_type": "code",
   "execution_count": null,
   "metadata": {
    "id": "3_fCiBbuNVM1"
   },
   "outputs": [],
   "source": []
  }
 ],
 "metadata": {
  "colab": {
   "authorship_tag": "ABX9TyNxDkaim0lOQLTUpLPsrFLM",
   "machine_shape": "hm",
   "mount_file_id": "1p80BpEs5EH5osjoMinb4fyAJ8LROCWn_",
   "provenance": []
  },
  "gpuClass": "standard",
  "kernelspec": {
   "display_name": "Python 3 (ipykernel)",
   "language": "python",
   "name": "python3"
  },
  "language_info": {
   "codemirror_mode": {
    "name": "ipython",
    "version": 3
   },
   "file_extension": ".py",
   "mimetype": "text/x-python",
   "name": "python",
   "nbconvert_exporter": "python",
   "pygments_lexer": "ipython3",
   "version": "3.9.13"
  }
 },
 "nbformat": 4,
 "nbformat_minor": 4
}
